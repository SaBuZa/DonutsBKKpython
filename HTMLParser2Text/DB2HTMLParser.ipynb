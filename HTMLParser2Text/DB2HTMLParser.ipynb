{
 "cells": [
  {
   "cell_type": "code",
   "execution_count": 2,
   "metadata": {
    "collapsed": true
   },
   "outputs": [],
   "source": [
    "from html.parser import HTMLParser\n"
   ]
  },
  {
   "cell_type": "code",
   "execution_count": 26,
   "metadata": {
    "collapsed": true
   },
   "outputs": [],
   "source": [
    "class MyHTMLParser(HTMLParser):\n",
    "    def handle_data(self, data):\n",
    "        print (\"data : \", data)"
   ]
  },
  {
   "cell_type": "code",
   "execution_count": 27,
   "metadata": {
    "collapsed": true
   },
   "outputs": [],
   "source": [
    "parser = MyHTMLParser()"
   ]
  },
  {
   "cell_type": "code",
   "execution_count": 28,
   "metadata": {},
   "outputs": [
    {
     "name": "stdout",
     "output_type": "stream",
     "text": [
      "data :  7. \n",
      "data :  ฉีดในอากาศ\n",
      "data :   และรีบเดินผ่านละอองน้ำหอมให้ติดตัวทุกจุดทั่วเรือนร่าง วิธีนี้เป็นวิธีที่ดีและประหยัดเวลา เหมาะกับคนที่รีบเร่งในตอนเช้าค่ะ\n"
     ]
    }
   ],
   "source": [
    "parser.feed('<div>7. <b><u>ฉีดในอากาศ</u></b> และรีบเดินผ่านละอองน้ำหอมให้ติดตัวทุกจุดทั่วเรือนร่าง วิธีนี้เป็นวิธีที่ดีและประหยัดเวลา เหมาะกับคนที่รีบเร่งในตอนเช้าค่ะ</div>')"
   ]
  },
  {
   "cell_type": "code",
   "execution_count": null,
   "metadata": {
    "collapsed": true
   },
   "outputs": [],
   "source": []
  }
 ],
 "metadata": {
  "kernelspec": {
   "display_name": "Python 3",
   "language": "python",
   "name": "python3"
  },
  "language_info": {
   "codemirror_mode": {
    "name": "ipython",
    "version": 3
   },
   "file_extension": ".py",
   "mimetype": "text/x-python",
   "name": "python",
   "nbconvert_exporter": "python",
   "pygments_lexer": "ipython3",
   "version": "3.6.3"
  }
 },
 "nbformat": 4,
 "nbformat_minor": 2
}
