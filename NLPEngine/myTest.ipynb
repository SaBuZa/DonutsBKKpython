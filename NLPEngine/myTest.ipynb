{
 "cells": [
  {
   "cell_type": "code",
   "execution_count": 1,
   "metadata": {
    "collapsed": true
   },
   "outputs": [],
   "source": [
    "import pandas as pd\n",
    "import time\n",
    "import redis\n",
    "\n",
    "from sklearn.feature_extraction.text import TfidfVectorizer\n",
    "from sklearn.metrics.pairwise import linear_kernel\n",
    "from sklearn.feature_extraction import text"
   ]
  },
  {
   "cell_type": "code",
   "execution_count": 2,
   "metadata": {
    "collapsed": true
   },
   "outputs": [],
   "source": [
    "import pymysql"
   ]
  },
  {
   "cell_type": "code",
   "execution_count": 12,
   "metadata": {
    "collapsed": true
   },
   "outputs": [],
   "source": [
    "my_additional_stop_words = [\"div\",\"br\",\"<\",\">\"]"
   ]
  },
  {
   "cell_type": "code",
   "execution_count": 19,
   "metadata": {
    "collapsed": true
   },
   "outputs": [],
   "source": [
    "class MyEngine(object):\n",
    "    \n",
    "    def train(self, data_source):\n",
    "        start = time.time()\n",
    "        ds = pd.read_csv(data_source)\n",
    "        self._train(ds)\n",
    "        \n",
    "    def _train(self, ds):\n",
    "        my_stop_words = text.ENGLISH_STOP_WORDS.union(my_additional_stop_words)\n",
    "        tf = TfidfVectorizer(analyzer = 'word',\n",
    "                           ngram_range=(1,5),\n",
    "                           min_df=0,\n",
    "                            stop_words = my_stop_words)\n",
    "        \n",
    "        tfidf_matrix = tf.fit_transform(ds['description'])\n",
    "        \n",
    "        #print (tf.vocabulary_)\n",
    "        \n",
    "        cosine_similarities = linear_kernel(tfidf_matrix, tfidf_matrix)\n",
    "        \n",
    "        for idx, row in ds.iterrows():\n",
    "            similar_indices = cosine_similarities[idx].argsort() [:-16:-1]\n",
    "            similar_items = [(cosine_similarities[idx][i], ds['id'][i]) for i in similar_indices]\n",
    "            flattened = sum(similar_items[1:], ())\n",
    "            tmpn = similar_items[1:]\n",
    "            rec_list = [item for _,item in tmpn]\n",
    "            print (idx+1,rec_list)\n",
    "            print ()\n",
    "        \n",
    "    def predict (self, item_id, num):\n",
    "        return 0\n",
    "myEngine = MyEngine()"
   ]
  },
  {
   "cell_type": "code",
   "execution_count": 20,
   "metadata": {},
   "outputs": [
    {
     "name": "stdout",
     "output_type": "stream",
     "text": [
      "1 [13, 23, 22, 21, 20, 19, 18, 17, 16, 15, 14, 12, 49, 11]\n",
      "\n",
      "2 [50, 13, 23, 22, 21, 20, 19, 18, 17, 16, 15, 14, 12, 49]\n",
      "\n",
      "3 [33, 50, 13, 22, 21, 20, 19, 18, 17, 16, 15, 14, 12, 24]\n",
      "\n",
      "4 [13, 23, 22, 21, 20, 19, 18, 17, 16, 15, 14, 12, 49, 11]\n",
      "\n",
      "5 [12, 48, 27, 16, 20, 13, 37, 8, 9, 15, 47, 43, 6, 41]\n",
      "\n",
      "6 [28, 35, 12, 8, 27, 13, 41, 15, 26, 24, 44, 48, 17, 16]\n",
      "\n",
      "7 [50, 41, 12, 47, 48, 20, 9, 8, 44, 37, 6, 40, 25, 30]\n",
      "\n",
      "8 [26, 6, 7, 5, 9, 12, 13, 37, 15, 17, 24, 42, 14, 16]\n",
      "\n",
      "9 [27, 7, 5, 8, 28, 48, 26, 47, 15, 43, 20, 32, 6, 37]\n",
      "\n",
      "10 [50, 13, 23, 22, 21, 20, 19, 18, 17, 16, 15, 14, 12, 49]\n",
      "\n",
      "11 [50, 13, 23, 22, 21, 20, 19, 18, 17, 16, 15, 14, 12, 49]\n",
      "\n",
      "12 [16, 20, 40, 41, 48, 47, 34, 50, 33, 27, 5, 17, 42, 25]\n",
      "\n",
      "13 [15, 16, 45, 37, 42, 20, 12, 6, 5, 43, 33, 26, 27, 35]\n",
      "\n",
      "14 [19, 18, 48, 42, 40, 46, 21, 22, 47, 12, 13, 17, 37, 35]\n",
      "\n",
      "15 [13, 37, 45, 43, 35, 41, 20, 6, 47, 17, 12, 42, 16, 5]\n",
      "\n",
      "16 [12, 47, 13, 30, 34, 20, 33, 50, 27, 5, 48, 41, 37, 25]\n",
      "\n",
      "17 [40, 12, 36, 48, 15, 44, 6, 33, 43, 28, 31, 34, 26, 16]\n",
      "\n",
      "18 [14, 19, 42, 21, 22, 40, 45, 37, 17, 13, 34, 47, 16, 12]\n",
      "\n",
      "19 [14, 21, 22, 18, 40, 12, 42, 13, 37, 47, 15, 16, 35, 48]\n",
      "\n",
      "20 [40, 12, 27, 16, 23, 30, 37, 50, 13, 15, 24, 48, 5, 7]\n",
      "\n",
      "21 [22, 19, 18, 50, 27, 42, 14, 20, 12, 16, 35, 43, 37, 13]\n",
      "\n",
      "22 [22, 19, 18, 50, 27, 42, 14, 20, 12, 16, 35, 43, 37, 13]\n",
      "\n",
      "23 [20, 45, 27, 26, 44, 40, 28, 42, 36, 17, 24, 12, 30, 13]\n",
      "\n",
      "24 [26, 20, 37, 12, 48, 6, 38, 16, 27, 28, 33, 15, 13, 7]\n",
      "\n",
      "25 [41, 46, 47, 34, 12, 36, 33, 31, 38, 43, 16, 45, 20, 44]\n",
      "\n",
      "26 [24, 28, 8, 37, 31, 44, 6, 33, 20, 40, 41, 13, 27, 23]\n",
      "\n",
      "27 [20, 35, 12, 37, 9, 16, 40, 48, 5, 6, 31, 41, 34, 43]\n",
      "\n",
      "28 [6, 30, 26, 12, 48, 44, 41, 16, 17, 20, 23, 9, 24, 5]\n",
      "\n",
      "29 [39, 32, 12, 20, 16, 38, 5, 27, 47, 42, 40, 50, 30, 25]\n",
      "\n",
      "30 [47, 28, 16, 20, 12, 44, 50, 7, 33, 5, 6, 41, 25, 48]\n",
      "\n",
      "31 [33, 34, 36, 26, 27, 46, 25, 12, 17, 15, 41, 47, 45, 37]\n",
      "\n",
      "32 [39, 29, 15, 5, 9, 20, 43, 23, 46, 41, 48, 47, 40, 34]\n",
      "\n",
      "33 [31, 34, 12, 16, 36, 46, 41, 25, 26, 13, 48, 17, 20, 50]\n",
      "\n",
      "34 [31, 33, 36, 41, 12, 46, 16, 25, 45, 27, 20, 35, 48, 17]\n",
      "\n",
      "35 [37, 27, 44, 6, 15, 40, 42, 41, 34, 48, 13, 20, 12, 43]\n",
      "\n",
      "36 [31, 34, 41, 17, 25, 33, 46, 45, 47, 12, 42, 20, 44, 23]\n",
      "\n",
      "37 [35, 15, 40, 42, 13, 27, 44, 20, 26, 24, 12, 16, 43, 5]\n",
      "\n",
      "38 [25, 37, 24, 41, 48, 46, 12, 6, 30, 16, 29, 7, 14, 19]\n",
      "\n",
      "39 [32, 29, 15, 9, 5, 20, 16, 43, 24, 27, 47, 6, 37, 35]\n",
      "\n",
      "40 [42, 20, 12, 17, 37, 44, 27, 35, 50, 41, 43, 48, 26, 16]\n",
      "\n",
      "41 [25, 46, 12, 45, 34, 47, 36, 7, 15, 44, 6, 16, 40, 33]\n",
      "\n",
      "42 [40, 45, 37, 12, 13, 50, 35, 44, 41, 18, 15, 36, 14, 43]\n",
      "\n",
      "43 [48, 15, 40, 37, 27, 25, 13, 41, 42, 5, 17, 35, 12, 6]\n",
      "\n",
      "44 [35, 40, 37, 41, 47, 28, 50, 30, 26, 17, 6, 42, 12, 25]\n",
      "\n",
      "45 [42, 41, 13, 15, 34, 46, 23, 36, 12, 27, 25, 18, 40, 20]\n",
      "\n",
      "46 [41, 25, 34, 47, 36, 45, 31, 33, 12, 48, 14, 16, 15, 38]\n",
      "\n",
      "47 [16, 30, 12, 41, 48, 25, 50, 46, 7, 44, 15, 36, 5, 37]\n",
      "\n",
      "48 [43, 12, 47, 5, 27, 20, 7, 28, 16, 41, 24, 17, 40, 14]\n",
      "\n",
      "49 [50, 13, 23, 22, 21, 20, 19, 18, 17, 16, 15, 14, 12, 11]\n",
      "\n",
      "50 [7, 12, 47, 16, 20, 40, 42, 44, 30, 37, 27, 48, 41, 33]\n",
      "\n"
     ]
    }
   ],
   "source": [
    "myEngine.train(\"pro_words-50.csv\")"
   ]
  },
  {
   "cell_type": "code",
   "execution_count": 15,
   "metadata": {
    "collapsed": true
   },
   "outputs": [],
   "source": [
    "#ds = pd.read_csv(\"pro_words-50.csv\")"
   ]
  },
  {
   "cell_type": "code",
   "execution_count": 16,
   "metadata": {
    "collapsed": true
   },
   "outputs": [],
   "source": [
    "#ds.keys()"
   ]
  },
  {
   "cell_type": "code",
   "execution_count": 208,
   "metadata": {
    "collapsed": true
   },
   "outputs": [],
   "source": [
    "db = pymysql.connect(host=\"localhost\",\n",
    "                   user=\"root\",\n",
    "                   passwd=\"rootpwd1234\",\n",
    "                   db=\"cclt_production\",\n",
    "                   charset='utf8')"
   ]
  },
  {
   "cell_type": "code",
   "execution_count": null,
   "metadata": {
    "collapsed": true
   },
   "outputs": [],
   "source": []
  }
 ],
 "metadata": {
  "kernelspec": {
   "display_name": "Python 3",
   "language": "python",
   "name": "python3"
  },
  "language_info": {
   "codemirror_mode": {
    "name": "ipython",
    "version": 3
   },
   "file_extension": ".py",
   "mimetype": "text/x-python",
   "name": "python",
   "nbconvert_exporter": "python",
   "pygments_lexer": "ipython3",
   "version": "3.6.3"
  }
 },
 "nbformat": 4,
 "nbformat_minor": 2
}
